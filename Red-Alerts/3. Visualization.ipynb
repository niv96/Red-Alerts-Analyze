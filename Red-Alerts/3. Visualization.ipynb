{
 "cells": [
  {
   "cell_type": "markdown",
   "metadata": {},
   "source": [
    "<h1><center><font color='Black'>Visualization</font></center></h1>"
   ]
  },
  {
   "cell_type": "code",
   "execution_count": null,
   "metadata": {
    "id": "YT7bZQs-MsQI"
   },
   "outputs": [],
   "source": [
    "#-------------Imports-----------#\n",
    "\n",
    "import pandas as pd\n",
    "import json\n",
    "from datetime import date\n",
    "import datetime as dt\n",
    "import numpy as np\n",
    "import matplotlib.pyplot as plt\n",
    "from matplotlib import pyplot as plt\n",
    "from wordcloud import WordCloud\n",
    "from bidi.algorithm import get_display\n",
    "from PIL import Image\n",
    "import seaborn as sns\n",
    "\n",
    "todays_date = date.today() #Get Today'S Date\n",
    "curryear = todays_date.year\n",
    "swipe = curryear - 2014 #Start From Curr Year To 2014\n",
    "\n",
    "colors = ['#ff9999','#66b3ff','#99ff99','#ffcc99' ,'#abac9a' ]"
   ]
  },
  {
   "cell_type": "code",
   "execution_count": null,
   "metadata": {},
   "outputs": [],
   "source": [
    "df = pd.read_csv('Data/df.csv', encoding='utf-8-sig' )\n",
    "df2 = pd.read_csv('Data/df2.csv', encoding='utf-8-sig')\n",
    "df"
   ]
  },
  {
   "cell_type": "markdown",
   "metadata": {},
   "source": [
    "Change the format of the DateTime into \"YY-MM-DD\""
   ]
  },
  {
   "cell_type": "code",
   "execution_count": null,
   "metadata": {},
   "outputs": [],
   "source": [
    "\n",
    "df[\"Date\"] = pd.to_datetime(df['Date'],format= '%Y-%m-%d')\n"
   ]
  },
  {
   "cell_type": "code",
   "execution_count": null,
   "metadata": {},
   "outputs": [],
   "source": [
    "\n",
    "df['Datetime'] = pd.to_datetime(df['Date'].apply(str)+' '+df['Time'])\n"
   ]
  },
  {
   "cell_type": "markdown",
   "metadata": {},
   "source": [
    "Sum all the alerts per year"
   ]
  },
  {
   "cell_type": "code",
   "execution_count": null,
   "metadata": {
    "colab": {
     "base_uri": "https://localhost:8080/"
    },
    "id": "PD-tyUrnMsQV",
    "outputId": "c398c3de-0c27-4d21-a644-88f8089353f9"
   },
   "outputs": [],
   "source": [
    "Years =[year for year in range(2014,curryear+1)]\n",
    "values =[df['Date'][df.Date.dt.year == year ].count() for year in Years ]\n",
    "\n",
    "for year in range(2014,curryear+1):\n",
    "    num = df['Date'][df.Date.dt.year== year ].count()\n",
    "    print(\"Number Of Alerts At\",year,\"------>\", num)\n",
    "\n",
    "df_alerst_per_year = pd.DataFrame(data = { \"Year\" : Years, \"Count\" : values } )"
   ]
  },
  {
   "cell_type": "markdown",
   "metadata": {},
   "source": [
    "We will now present in bar plot the amount of alerts for each year"
   ]
  },
  {
   "cell_type": "code",
   "execution_count": null,
   "metadata": {},
   "outputs": [],
   "source": [
    "# Double click to see the code\n",
    "\n",
    "plt.figure(figsize=[15, 7])\n",
    "\n",
    "# Creating a bar chart with bars of different color\n",
    "plt.bar(df_alerst_per_year.Year, df_alerst_per_year.Count, width=0.7, edgecolor='blueviolet',\n",
    "        color=['r', 'y', 'g', 'b', 'c', 'k', \n",
    "               'olive', 'gray', 'pink', 'maroon'], linewidth=2)\n",
    "\n",
    "plt.title('The number of alarms each year', fontsize=17)\n",
    "plt.xlabel('Years', fontsize=15)\n",
    "plt.ylabel('Number of alerts', fontsize=15)\n",
    "plt.show()\n",
    "\n",
    "\n"
   ]
  },
  {
   "cell_type": "markdown",
   "metadata": {},
   "source": [
    "Now let's see what the hour with the most alerts from 2014 to present"
   ]
  },
  {
   "cell_type": "code",
   "execution_count": null,
   "metadata": {},
   "outputs": [],
   "source": [
    "Hours =[hour for hour in range(0,24)]\n",
    "values =[df['Datetime'][df.Datetime.dt.hour== hour ].count() for hour in Hours]\n",
    "\n",
    "df_common_hour = pd.DataFrame(data = { \"Hour\" : Hours, \"Count\" : values } )"
   ]
  },
  {
   "cell_type": "code",
   "execution_count": null,
   "metadata": {
    "colab": {
     "base_uri": "https://localhost:8080/"
    },
    "id": "I__vvrTCqyHW",
    "outputId": "ae5aed3e-85fc-4106-ac9b-6ee946354f5f"
   },
   "outputs": [],
   "source": [
    "# Double click to see the code\n",
    "for hour in range(0,24):\n",
    "    num = df['Datetime'][df.Datetime.dt.hour== hour ].count()\n",
    "    #print(\"Number Of Alerts At\",hour,\"------>\", num)\n",
    "\n",
    "plt.figure(figsize=[15, 7])\n",
    "\n",
    "# Creating a bar chart with bars of different color\n",
    "plt.bar(df_common_hour['Hour'],df_common_hour['Count'] ,width=0.7, edgecolor='blueviolet', color=['r', 'y', 'g', 'b', 'c', 'k', 'olive', 'gray', 'pink', 'maroon'], linewidth=2)\n",
    "\n",
    "plt.title('The hour with the most alerts from 2014 to present', fontsize=15)\n",
    "plt.xlabel('Hour', fontsize=15)\n",
    "plt.ylabel('Number of alerts', fontsize=15)\n",
    "plt.show()\n"
   ]
  },
  {
   "cell_type": "markdown",
   "metadata": {},
   "source": [
    "We see that around 10 AM is the result, now let's see it more clearly in the form of a clock"
   ]
  },
  {
   "cell_type": "code",
   "execution_count": null,
   "metadata": {},
   "outputs": [],
   "source": [
    "# Double click to see the code\n",
    "colors2 = []\n",
    "for value in values:\n",
    "    if value > 2000:\n",
    "        colors2.append(\"#ff9999\") # Red\n",
    "    elif value < 2000 and value > 1000:\n",
    "        colors2.append(\"#66b3ff\") #Blue\n",
    "    else:\n",
    "        colors2.append(\"#99ff99\") #Green\n",
    "\n",
    "        \n",
    "\n",
    "fig = plt.figure(figsize=(10,10))\n",
    "\n",
    "ax = plt.subplot(111, projection = 'polar')\n",
    "\n",
    "ax.bar(df_common_hour['Hour']-1, df_common_hour['Count'],  width = 0.29, alpha=0.8, color=colors2, edgecolor='blueviolet', linewidth=1)\n",
    "ax.bar(0, 0 , color='#ff9999',label = \"More Then 2000 Rockets\")\n",
    "ax.bar(0, 0 , color='#66b3ff',label = \"Between 1000 And 2000 Rockets\")\n",
    "ax.bar(0, 0 , color='#99ff99',label = \"Less Then  1000 Rockets\")\n",
    "# Make the labels go clockwise\n",
    "ax.set_theta_direction(-1)\n",
    "\n",
    "#Place Zero at Top\n",
    "ax.set_theta_offset(np.pi/2)\n",
    "\n",
    "#Set the circumference ticks\n",
    "ax.set_xticks(np.linspace(0,2*np.pi, 24, endpoint=False))\n",
    "\n",
    "# set the label names\n",
    "#ticks = ['12 AM', '1 AM', '2 AM', '3 AM', '4 AM', '5 AM', '6 AM', '7 AM','8 AM','9 AM','10 AM','11 AM','12 PM', '1 PM', '2 PM', '3 PM', '4 PM',  '5 PM', '6 PM', '7 PM', '8 PM', '9 PM', '10 PM', '11 PM' ]\n",
    "ticks = ['00:00', '01:00', '02:00', '03:00', '04:00', '05:00', '06:00', '07:00','08:00','09:00','10:00','11:00','12:00', '13:00', '14:00', '15:00', '16:00',  '17:00', '18:00', '19:00', '20:00', '21:00', '22:00', '23:00' ]\n",
    "ax.set_xticklabels(ticks)\n",
    "\n",
    "# suppress the radial labels\n",
    "plt.setp(ax.get_yticklabels(), visible=False)\n",
    "\n",
    "#Bars to the wall\n",
    "plt.ylim(0,max(values))\n",
    "\n",
    "plt.legend(bbox_to_anchor=(1,0), fancybox=True, shadow=True)\n",
    "plt.show()"
   ]
  },
  {
   "cell_type": "markdown",
   "metadata": {},
   "source": [
    "Now let's see the cities with to most alerts from 2014 to present, in the first plot we see the top 10, the second one we used *WordCloud* to see the cities with the most alerts in form of text"
   ]
  },
  {
   "cell_type": "code",
   "execution_count": null,
   "metadata": {
    "colab": {
     "base_uri": "https://localhost:8080/",
     "height": 380
    },
    "id": "WggiMPxr3jaR",
    "outputId": "934706df-dd6c-44ec-c4fe-f1c2f259a470"
   },
   "outputs": [],
   "source": [
    "# Double click to see the code\n",
    "\n",
    "col_map = plt.get_cmap('Paired')\n",
    "text = df.loc[:,'Zone'].apply(lambda x: x[::-1]).value_counts()[:30]\n",
    "plt.title('The cities with the most alerts from 2014 to present (Top 10)', fontsize=15)\n",
    "df.loc[:,'Zone'].apply(lambda x: x[::-1]).value_counts()[:10].plot(kind='bar', width=0.7,color=col_map.colors,edgecolor='k',linewidth=2,figsize=[15, 7])\n",
    "plt.xlabel('Cities', fontsize=15)\n",
    "plt.ylabel('Number of alerts', fontsize=15)\n",
    "\n",
    "\n",
    "def transform_format(val):\n",
    "    if val != 0:\n",
    "        return 255\n",
    "    else:\n",
    "        return val\n",
    "\n",
    "    \n",
    "    \n",
    "image_file=Image.open(\"Photos/rocket.png\")\n",
    "image_file=image_file.convert('1')\n",
    "rocket_mask = np.array(image_file)\n",
    "\n",
    "transformed_rocket_mask = np.ndarray((rocket_mask.shape[0],rocket_mask.shape[1]), np.int32)\n",
    "\n",
    "for i in range(len(rocket_mask)):\n",
    "    transformed_rocket_mask[i] = list(map(transform_format, rocket_mask[i]))\n",
    "\n",
    "wc = WordCloud(background_color=\"White\", max_words=100, mask=transformed_rocket_mask,contour_width=3, contour_color='gray', font_path= 'Data/FreeSansBold.ttf')\n",
    "\n",
    "wc=wc.generate_from_frequencies(text)\n",
    "plt.figure(figsize=[20,10])\n",
    "plt.imshow(wc, interpolation='bilinear')\n",
    "plt.axis(\"off\")\n",
    "plt.show()\n",
    "\n"
   ]
  },
  {
   "cell_type": "markdown",
   "metadata": {},
   "source": [
    "Let's compare the big cities"
   ]
  },
  {
   "cell_type": "code",
   "execution_count": null,
   "metadata": {},
   "outputs": [],
   "source": [
    "# Double click to see the code\n",
    "\n",
    "cities = ['באר שבע' , 'אשדוד'  , 'תל אביב'  , 'אשקלון'  , 'ראשון לציון'  ]\n",
    "\n",
    "values = []\n",
    "for city in cities:\n",
    "    num = df[\"Zone\"][df.Zone.str.contains(city)].count()\n",
    "    values.append(num)\n",
    "\n",
    "cities = [x[::-1] for x in cities]   \n",
    "\n",
    "fig, ax = plt.subplots(figsize=(7, 6))\n",
    "ax.pie(values, labels=cities, colors=colors, autopct='%1.1f%%',explode=(0,0,0, 0.1, 0) , shadow=True , startangle=270 , textprops={'fontsize': 14})\n",
    "\n",
    "ax.set_title(\"The big cities with the most alerts from 2014-present\",fontsize=18)\n",
    "plt.tight_layout()"
   ]
  }
 ],
 "metadata": {
  "interpreter": {
   "hash": "122102591965fbc1b28e56759585867d87aeafb65621040c6aa9a769590e6ec7"
  },
  "kernelspec": {
   "display_name": "Python 3.8.8 64-bit ('base': conda)",
   "language": "python",
   "name": "python3"
  },
  "language_info": {
   "codemirror_mode": {
    "name": "ipython",
    "version": 3
   },
   "file_extension": ".py",
   "mimetype": "text/x-python",
   "name": "python",
   "nbconvert_exporter": "python",
   "pygments_lexer": "ipython3",
   "version": "3.9.5"
  },
  "orig_nbformat": 4
 },
 "nbformat": 4,
 "nbformat_minor": 2
}
