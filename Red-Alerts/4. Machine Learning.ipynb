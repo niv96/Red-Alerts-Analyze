{
 "cells": [
  {
   "cell_type": "markdown",
   "metadata": {},
   "source": [
    "<h1><center><font color='Black'>Machine Learning</font></center></h1>"
   ]
  },
  {
   "cell_type": "code",
   "execution_count": null,
   "metadata": {},
   "outputs": [],
   "source": [
    "#-------------imports--------------#\n",
    "import matplotlib.pyplot as plt\n",
    "import pandas as pd\n",
    "import numpy as np\n",
    "\n",
    "from sklearn.cluster import KMeans, DBSCAN\n",
    "from sklearn.metrics import silhouette_score\n",
    "from sklearn.neighbors import KNeighborsClassifier\n",
    "\n",
    "import folium\n",
    "import re\n",
    "import matplotlib.pyplot as plt\n",
    "from folium.plugins import HeatMap\n",
    "\n",
    "cols = ['#e6194b', '#3cb44b', '#ffe119', '#4363d8', '#f58231', '#911eb4',\n",
    "        '#46f0f0', '#f032e6', '#bcf60c', '#fabebe', '#008080', '#e6beff', \n",
    "        '#9a6324', '#fffac8', '#800000', '#aaffc3', '#808000', '#ffd8b1', \n",
    "        '#000075', '#808080']*10"
   ]
  },
  {
   "cell_type": "code",
   "execution_count": null,
   "metadata": {},
   "outputs": [],
   "source": [
    "data = pd.read_csv('Data/df.csv')\n",
    "data"
   ]
  },
  {
   "cell_type": "code",
   "execution_count": null,
   "metadata": {},
   "outputs": [],
   "source": [
    "data[\"Date\"] = pd.to_datetime(data['Date'],format= '%Y-%m-%d')\n"
   ]
  },
  {
   "cell_type": "code",
   "execution_count": null,
   "metadata": {},
   "outputs": [],
   "source": [
    "data['Datetime'] = pd.to_datetime(data['Date'].apply(str)+' '+data['Time'])\n"
   ]
  },
  {
   "cell_type": "markdown",
   "metadata": {},
   "source": [
    "We will add columns of the hour and a columns with longitude and latitude of each city"
   ]
  },
  {
   "cell_type": "code",
   "execution_count": null,
   "metadata": {},
   "outputs": [],
   "source": [
    "dfCor = pd.read_csv('Data/alt_long.csv', encoding='utf-8-sig')\n",
    "data['lat'] = 0\n",
    "data['long'] = 0\n",
    "for ind in dfCor.index:\n",
    "    data['lat'] = data['lat'].mask( data['Zone'].str.contains( dfCor['name'][ind] ) , dfCor['latt'][ind])\n",
    "    data['long'] = data['long'].mask( data['Zone'].str.contains( dfCor['name'][ind] ) , dfCor['long'][ind])\n"
   ]
  },
  {
   "cell_type": "code",
   "execution_count": null,
   "metadata": {},
   "outputs": [],
   "source": [
    "data = data[data['lat'] != 0]\n",
    "data.reset_index(inplace=True)\n"
   ]
  },
  {
   "cell_type": "code",
   "execution_count": null,
   "metadata": {},
   "outputs": [],
   "source": [
    "#make a new column with the date and time\n",
    "data['year'] = pd.to_datetime(data['Date']).dt.year\n",
    "data['month'] = pd.to_datetime(data['Date']).dt.month\n",
    "data['day'] = pd.to_datetime(data['Date']).dt.day\n",
    "data['hour'] = pd.to_datetime(data['Time'], format='%H:%M').dt.hour"
   ]
  },
  {
   "cell_type": "code",
   "execution_count": null,
   "metadata": {},
   "outputs": [],
   "source": [
    "data = data.drop(['Date','Time'], axis= 1)"
   ]
  },
  {
   "cell_type": "code",
   "execution_count": null,
   "metadata": {},
   "outputs": [],
   "source": [
    "data = data.rename(columns={'Zone': 'NAME'})\n",
    "data = data.rename(columns={'lat': 'LAT'})\n",
    "data = data.rename(columns={'long': 'LON'})\n"
   ]
  },
  {
   "cell_type": "markdown",
   "metadata": {},
   "source": [
    "Let's see how its look like in scatter plot "
   ]
  },
  {
   "cell_type": "code",
   "execution_count": null,
   "metadata": {},
   "outputs": [],
   "source": [
    "X=np.array(data[['LON','LAT','hour']],dtype='float64')\n",
    "plt.scatter(X[:,0],X[:,1],alpha=0.2,s=50)\n",
    "plt.grid(True)"
   ]
  },
  {
   "cell_type": "markdown",
   "metadata": {},
   "source": [
    "**Unsupervised Learning** - Kmean"
   ]
  },
  {
   "cell_type": "code",
   "execution_count": null,
   "metadata": {},
   "outputs": [],
   "source": [
    "plt_map=folium.Map(location=[data.LAT.mean(),data.LON.mean()],zoom_start=5,\n",
    "             tiles='OpenStreetMap')\n",
    "for _,row in data.iterrows():\n",
    "    folium.CircleMarker(\n",
    "        location=[row.LAT,row.LON],\n",
    "        radius=5,\n",
    "        popup=re.sub(r'[^a-zA-Z ]+','',row.NAME),\n",
    "        color='blue',\n",
    "        fill=True\n",
    "    ).add_to(plt_map)\n",
    "plt_map"
   ]
  },
  {
   "cell_type": "code",
   "execution_count": null,
   "metadata": {},
   "outputs": [],
   "source": [
    "k_range=range(4,15)\n",
    "kmeans_per_k=[]\n",
    "for k in k_range:\n",
    "    kmeans=KMeans(n_clusters=k,random_state=0).fit(X)\n",
    "    kmeans_per_k.append(kmeans)"
   ]
  },
  {
   "cell_type": "code",
   "execution_count": null,
   "metadata": {},
   "outputs": [],
   "source": [
    "silh_scores=[silhouette_score(X,model.labels_) for model in kmeans_per_k]\n",
    "best_index = np.argmax(silh_scores)\n",
    "best_k = k_range[best_index]\n",
    "best_score = silh_scores[best_index]\n",
    "print(\"best k value:\",best_k)\n",
    "print(\"silhouette score:\",best_score)\n"
   ]
  },
  {
   "cell_type": "code",
   "execution_count": null,
   "metadata": {},
   "outputs": [],
   "source": [
    "\n",
    "plt.figure(figsize=(8, 3))\n",
    "plt.grid(True)\n",
    "plt.plot(k_range, silh_scores, \"bo-\")\n",
    "plt.xlabel(\"k\", fontsize=14)\n",
    "plt.ylabel(\"Silhouette score\", fontsize=14)\n",
    "plt.plot(best_k, best_score, \"rs\")\n",
    "plt.show()"
   ]
  },
  {
   "cell_type": "code",
   "execution_count": null,
   "metadata": {},
   "outputs": [],
   "source": [
    "inertias = [model.inertia_ for model in kmeans_per_k]\n",
    "best_inertia = inertias[best_index]\n",
    "\n",
    "plt.figure(figsize=(8, 3.5))\n",
    "plt.grid(True)\n",
    "plt.plot(k_range, inertias, \"bo-\")\n",
    "plt.xlabel(\"$k$\", fontsize=14)\n",
    "plt.ylabel(\"Inertia\", fontsize=14)\n",
    "plt.plot(best_k, best_inertia, \"rs\")\n",
    "plt.show()"
   ]
  },
  {
   "cell_type": "code",
   "execution_count": null,
   "metadata": {},
   "outputs": [],
   "source": [
    "k=best_k\n",
    "model=KMeans(n_clusters=k,random_state=42).fit(X)\n",
    "pred=model.predict(X)\n",
    "data[f'CLUSTER_kmeans']=pred"
   ]
  },
  {
   "cell_type": "code",
   "execution_count": null,
   "metadata": {},
   "outputs": [],
   "source": [
    "def create_map(data,cluster_col):\n",
    "    m = folium.Map(location=[data.LAT.mean(), data.LON.mean()], zoom_start=9, tiles='openstreetmap')\n",
    "\n",
    "    for _, row in data.iterrows():\n",
    "\n",
    "        # get a colour\n",
    "        if row[cluster_col]==-1:\n",
    "            cluster_colour='black'\n",
    "        else:\n",
    "            cluster_colour = cols[row[cluster_col]]\n",
    "\n",
    "        folium.CircleMarker(\n",
    "            location=[row.LAT,row.LON],\n",
    "            radius=5,\n",
    "            popup= row[cluster_col],\n",
    "            color=cluster_colour,\n",
    "            fill=True,\n",
    "            fill_color=cluster_colour\n",
    "        ).add_to(m)\n",
    "    return m"
   ]
  },
  {
   "cell_type": "code",
   "execution_count": null,
   "metadata": {},
   "outputs": [],
   "source": [
    "print(f'Silhouette Score: {silhouette_score(X, pred)}')\n"
   ]
  },
  {
   "cell_type": "code",
   "execution_count": null,
   "metadata": {},
   "outputs": [],
   "source": [
    "\n",
    "plt_map=create_map(data,'CLUSTER_kmeans')   \n",
    "plt_map.save('kmeans_map.html')\n",
    "plt_map"
   ]
  },
  {
   "cell_type": "markdown",
   "metadata": {},
   "source": [
    "Heat Map, Military operation 5-6/2021"
   ]
  },
  {
   "cell_type": "code",
   "execution_count": null,
   "metadata": {},
   "outputs": [],
   "source": [
    "data2 = data[data['Datetime'].dt.year==2021]\n",
    "data2 = data2[data2['Datetime'].dt.month.between(5,6)]\n",
    "\n",
    "#Make the list of Lat an Lng\n",
    "lat = data2.LAT.tolist()\n",
    "lng = data2.LON.tolist()\n",
    "\n",
    "#Create the Map\n",
    "map = folium.Map(\n",
    "    location=[data2.LAT.mean(),data2.LON.mean()],\n",
    "    tiles='OpenStreetMap',\n",
    "    zoom_start=12\n",
    ")\n",
    "# [32.05, 34.80], tel aviv\n",
    "HeatMap(list(zip(lat, lng))).add_to(map)\n",
    "map"
   ]
  }
 ],
 "metadata": {
  "interpreter": {
   "hash": "122102591965fbc1b28e56759585867d87aeafb65621040c6aa9a769590e6ec7"
  },
  "kernelspec": {
   "display_name": "Python 3.8.8 64-bit ('base': conda)",
   "language": "python",
   "name": "python3"
  },
  "language_info": {
   "codemirror_mode": {
    "name": "ipython",
    "version": 3
   },
   "file_extension": ".py",
   "mimetype": "text/x-python",
   "name": "python",
   "nbconvert_exporter": "python",
   "pygments_lexer": "ipython3",
   "version": "3.9.5"
  },
  "orig_nbformat": 4
 },
 "nbformat": 4,
 "nbformat_minor": 2
}
