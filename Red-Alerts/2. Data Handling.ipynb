{
 "cells": [
  {
   "cell_type": "markdown",
   "metadata": {
    "id": "vTxLup32MsQR"
   },
   "source": [
    "<h1><center><font color='Black'>Data Handling</font></center></h1>"
   ]
  },
  {
   "cell_type": "code",
   "execution_count": null,
   "metadata": {},
   "outputs": [],
   "source": [
    "#---------Imports--------#\n",
    "import pandas as pd\n",
    "from datetime import date\n",
    "import datetime as dt\n",
    "import numpy as np\n",
    "import matplotlib.pyplot as plt\n",
    "\n",
    "todays_date = date.today() #Get Today'S Date\n",
    "curryear = todays_date.year\n",
    "swipe = curryear - 2014 #Start From Curr Year To 2014"
   ]
  },
  {
   "cell_type": "code",
   "execution_count": null,
   "metadata": {},
   "outputs": [],
   "source": [
    "df = pd.read_csv('Data/df.csv', encoding='utf-8-sig' )\n",
    "df2 = pd.read_csv('Data/df2.csv', encoding='utf-8-sig')"
   ]
  },
  {
   "cell_type": "markdown",
   "metadata": {},
   "source": [
    "In the second DataFrame we have several regions names in the same row we want to separate them into a separate rows "
   ]
  },
  {
   "cell_type": "code",
   "execution_count": null,
   "metadata": {
    "id": "iSNhCfaWMsQR"
   },
   "outputs": [],
   "source": [
    "ids = df2[\"Zone Number\"]\n",
    "df2=df2[ids.isin(ids[ids.duplicated()])].sort_values(\"Zone Number\")\n",
    "\n",
    "df2 = df2.groupby('Zone Number').agg({'Zone Name': ','.join, 'Defense Time':'first' }).reset_index()\n",
    "df2 = df2.copy()"
   ]
  },
  {
   "cell_type": "markdown",
   "metadata": {},
   "source": [
    "Change the type of the date and the time into type of DateTime and create a new column with full DateTime contains the time and the date "
   ]
  },
  {
   "cell_type": "code",
   "execution_count": null,
   "metadata": {},
   "outputs": [],
   "source": [
    "df[\"Date\"] = pd.to_datetime(df['Date'],format= '%d.%m.%Y')"
   ]
  },
  {
   "cell_type": "code",
   "execution_count": null,
   "metadata": {
    "id": "yW9pMUUwMsQR"
   },
   "outputs": [],
   "source": [
    "df['Datetime'] = pd.to_datetime(df['Date'].apply(str)+' '+df['Time'])"
   ]
  },
  {
   "cell_type": "markdown",
   "metadata": {},
   "source": [
    "The city of Ashdod is divided into several areas, so we want to turn all those areas into one area called Ashdod"
   ]
  },
  {
   "cell_type": "code",
   "execution_count": null,
   "metadata": {
    "id": "mDKkhQzcMsQS"
   },
   "outputs": [],
   "source": [
    "df.loc[(df['Date'] > '2015') & (df[\"Zone\"].str.contains('אשדוד')),'Zone']='אשדוד'"
   ]
  },
  {
   "cell_type": "markdown",
   "metadata": {},
   "source": [
    "Since we have several regions names in the same row we want to separate them into a separate rows "
   ]
  },
  {
   "cell_type": "code",
   "execution_count": null,
   "metadata": {
    "id": "qkMWGt_wMsQS"
   },
   "outputs": [],
   "source": [
    "df['Zone'] = df['Zone'].str.split(',')\n",
    "df = df.explode('Zone')"
   ]
  },
  {
   "cell_type": "markdown",
   "metadata": {},
   "source": [
    "After splitting all the areas into separate rows, we will now convert each area to all the cities in the same area, according to the names in the second DataFrame"
   ]
  },
  {
   "cell_type": "code",
   "execution_count": null,
   "metadata": {
    "id": "4yrZtfPAMsQT"
   },
   "outputs": [],
   "source": [
    "for index, row in df2.iterrows():\n",
    "    df.loc[df['Zone'].str.contains(row['Zone Number']), 'Zone'] = row['Zone Name']\n",
    "    df.replace(row['Zone Number'] , row['Zone Name'] ,inplace=True)"
   ]
  },
  {
   "cell_type": "markdown",
   "metadata": {},
   "source": [
    "There are alarms that appear in our data called \"test\" so we want to get rid of them, in addition because we made all the areas into the names of the cities in the same area, now we will split all the cities into separate rows"
   ]
  },
  {
   "cell_type": "code",
   "execution_count": null,
   "metadata": {
    "colab": {
     "base_uri": "https://localhost:8080/"
    },
    "id": "Bmrqpc6OMsQT",
    "outputId": "bef8800c-e41e-4d03-970c-98fb51e38609"
   },
   "outputs": [],
   "source": [
    "df = df[~df['Zone'].isin(['בדיקה','בדיקה ידנית 1'])] \n",
    "df.reset_index(drop=True, inplace=True)\n",
    "\n",
    "df['Zone'] = df['Zone'].str.split(',')\n",
    "df = df.explode('Zone')"
   ]
  },
  {
   "cell_type": "markdown",
   "metadata": {},
   "source": [
    "There are alarms that contain only some of the names of certain cities, so we will make any alarm that contains only some of the names, into the names of the cities themselves"
   ]
  },
  {
   "cell_type": "code",
   "execution_count": null,
   "metadata": {
    "id": "f-I_BfsfMsQT"
   },
   "outputs": [],
   "source": [
    "megaCities = ['באר שבע','אשדוד','ירושלים','תל אביב','נתניה','הרצליה',\n",
    "'חדרה','אשקלון','ראשון לציון','ניר עם','רמת גן','פתח תקווה','בני ברק' , 'חולון','רחובות']\n",
    "\n",
    "for index in megaCities:\n",
    "   df.loc[df['Zone'].str.contains(index), 'Zone'] = index "
   ]
  },
  {
   "cell_type": "code",
   "execution_count": null,
   "metadata": {},
   "outputs": [],
   "source": [
    "#Drop Duplicates\n",
    "df.drop_duplicates(inplace=True)"
   ]
  },
  {
   "cell_type": "markdown",
   "metadata": {},
   "source": [
    "Now the DataFrame is ready , We can move to the next step, to EDA."
   ]
  },
  {
   "cell_type": "code",
   "execution_count": null,
   "metadata": {},
   "outputs": [],
   "source": [
    "df"
   ]
  },
  {
   "cell_type": "code",
   "execution_count": null,
   "metadata": {},
   "outputs": [],
   "source": [
    "df2.to_csv(\"Data/df2.csv\", encoding='utf-8-sig' ,index=False )\n",
    "df.to_csv(\"Data/df.csv\", encoding='utf-8-sig' , index=False)"
   ]
  }
 ],
 "metadata": {
  "interpreter": {
   "hash": "122102591965fbc1b28e56759585867d87aeafb65621040c6aa9a769590e6ec7"
  },
  "kernelspec": {
   "display_name": "Python 3.8.8 64-bit ('base': conda)",
   "language": "python",
   "name": "python3"
  },
  "language_info": {
   "codemirror_mode": {
    "name": "ipython",
    "version": 3
   },
   "file_extension": ".py",
   "mimetype": "text/x-python",
   "name": "python",
   "nbconvert_exporter": "python",
   "pygments_lexer": "ipython3",
   "version": "3.9.5"
  },
  "orig_nbformat": 4
 },
 "nbformat": 4,
 "nbformat_minor": 2
}
